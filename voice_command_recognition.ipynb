{
  "nbformat": 4,
  "nbformat_minor": 0,
  "metadata": {
    "colab": {
      "provenance": []
    },
    "kernelspec": {
      "name": "python3",
      "display_name": "Python 3"
    },
    "language_info": {
      "name": "python"
    }
  },
  "cells": [
    {
      "cell_type": "code",
      "source": [
        "!unzip command_dataset.zip"
      ],
      "metadata": {
        "colab": {
          "base_uri": "https://localhost:8080/"
        },
        "id": "IkdVahTw7_V9",
        "outputId": "3ae5f2d3-d813-4840-8ab2-8c766211dada"
      },
      "execution_count": null,
      "outputs": [
        {
          "output_type": "stream",
          "name": "stdout",
          "text": [
            "Archive:  command_dataset.zip\n",
            "  inflating: command_dataset/yes/yes_99.wav  \n",
            "  inflating: command_dataset/yes/yes_53.wav  \n",
            "  inflating: command_dataset/yes/yes_44.wav  \n",
            "  inflating: command_dataset/yes/yes_90.wav  \n",
            "  inflating: command_dataset/yes/yes_47.wav  \n",
            "  inflating: command_dataset/yes/yes_56.wav  \n",
            "  inflating: command_dataset/yes/yes_92.wav  \n",
            "  inflating: command_dataset/yes/yes_80.wav  \n",
            "  inflating: command_dataset/yes/yes_77.wav  \n",
            "  inflating: command_dataset/yes/yes_94.wav  \n",
            "  inflating: command_dataset/yes/yes_52.wav  \n",
            "  inflating: command_dataset/yes/yes_97.wav  \n",
            "  inflating: command_dataset/yes/yes_57.wav  \n",
            "  inflating: command_dataset/yes/yes_62.wav  \n",
            "  inflating: command_dataset/yes/yes_82.wav  \n",
            "  inflating: command_dataset/yes/yes_45.wav  \n",
            "  inflating: command_dataset/yes/yes_95.wav  \n",
            "  inflating: command_dataset/yes/yes_46.wav  \n",
            "  inflating: command_dataset/yes/yes_76.wav  \n",
            "  inflating: command_dataset/yes/yes_66.wav  \n",
            "  inflating: command_dataset/yes/yes_87.wav  \n",
            "  inflating: command_dataset/yes/yes_96.wav  \n",
            "  inflating: command_dataset/yes/yes_51.wav  \n",
            "  inflating: command_dataset/yes/yes_78.wav  \n",
            "  inflating: command_dataset/yes/yes_75.wav  \n",
            "  inflating: command_dataset/yes/yes_58.wav  \n",
            "  inflating: command_dataset/yes/yes_49.wav  \n",
            "  inflating: command_dataset/yes/yes_71.wav  \n",
            "  inflating: command_dataset/yes/yes_48.wav  \n",
            "  inflating: command_dataset/yes/yes_43.wav  \n",
            "  inflating: command_dataset/yes/yes_59.wav  \n",
            "  inflating: command_dataset/yes/yes_73.wav  \n",
            "  inflating: command_dataset/yes/yes_42.wav  \n",
            "  inflating: command_dataset/yes/yes_69.wav  \n",
            "  inflating: command_dataset/yes/yes_84.wav  \n",
            "  inflating: command_dataset/yes/yes_93.wav  \n",
            "  inflating: command_dataset/yes/yes_79.wav  \n",
            "  inflating: command_dataset/yes/yes_41.wav  \n",
            "  inflating: command_dataset/yes/yes_65.wav  \n",
            "  inflating: command_dataset/yes/yes_100.wav  \n",
            "  inflating: command_dataset/yes/yes_63.wav  \n",
            "  inflating: command_dataset/yes/yes_91.wav  \n",
            "  inflating: command_dataset/yes/yes_40.wav  \n",
            "  inflating: command_dataset/yes/yes_55.wav  \n",
            "  inflating: command_dataset/yes/yes_70.wav  \n",
            "  inflating: command_dataset/yes/yes_74.wav  \n",
            "  inflating: command_dataset/yes/yes_64.wav  \n",
            "  inflating: command_dataset/yes/yes_38.wav  \n",
            "  inflating: command_dataset/yes/yes_35.wav  \n",
            "  inflating: command_dataset/yes/yes_61.wav  \n",
            "  inflating: command_dataset/yes/yes_88.wav  \n",
            "  inflating: command_dataset/yes/yes_68.wav  \n",
            "  inflating: command_dataset/yes/yes_72.wav  \n",
            "  inflating: command_dataset/yes/yes_54.wav  \n",
            "  inflating: command_dataset/yes/yes_86.wav  \n",
            "  inflating: command_dataset/yes/yes_81.wav  \n",
            "  inflating: command_dataset/yes/yes_60.wav  \n",
            "  inflating: command_dataset/yes/yes_89.wav  \n",
            "  inflating: command_dataset/yes/yes_67.wav  \n",
            "  inflating: command_dataset/yes/yes_83.wav  \n",
            "  inflating: command_dataset/yes/yes_50.wav  \n",
            "  inflating: command_dataset/yes/yes_19.wav  \n",
            "  inflating: command_dataset/yes/yes_29.wav  \n",
            "  inflating: command_dataset/yes/yes_39.wav  \n",
            "  inflating: command_dataset/yes/yes_32.wav  \n",
            "  inflating: command_dataset/yes/yes_21.wav  \n",
            "  inflating: command_dataset/yes/yes_17.wav  \n",
            "  inflating: command_dataset/yes/yes_36.wav  \n",
            "  inflating: command_dataset/yes/yes_28.wav  \n",
            "  inflating: command_dataset/yes/yes_12.wav  \n",
            "  inflating: command_dataset/yes/yes_30.wav  \n",
            "  inflating: command_dataset/yes/yes_6.wav  \n",
            "  inflating: command_dataset/yes/yes_85.wav  \n",
            "  inflating: command_dataset/yes/yes_37.wav  \n",
            "  inflating: command_dataset/yes/yes_7.wav  \n",
            "  inflating: command_dataset/yes/yes_26.wav  \n",
            "  inflating: command_dataset/yes/yes_14.wav  \n",
            "  inflating: command_dataset/yes/yes_18.wav  \n",
            "  inflating: command_dataset/yes/yes_33.wav  \n",
            "  inflating: command_dataset/yes/yes_24.wav  \n",
            "  inflating: command_dataset/yes/yes_15.wav  \n",
            "  inflating: command_dataset/yes/yes_22.wav  \n",
            "  inflating: command_dataset/yes/yes_34.wav  \n",
            "  inflating: command_dataset/yes/yes_20.wav  \n",
            "  inflating: command_dataset/yes/yes_11.wav  \n",
            "  inflating: command_dataset/yes/yes_31.wav  \n",
            "  inflating: command_dataset/yes/yes_13.wav  \n",
            "  inflating: command_dataset/yes/yes_10.wav  \n",
            "  inflating: command_dataset/yes/yes_16.wav  \n",
            "  inflating: command_dataset/yes/yes_1.wav  \n",
            "  inflating: command_dataset/yes/yes_3.wav  \n",
            "  inflating: command_dataset/yes/yes_98.wav  \n",
            "  inflating: command_dataset/yes/yes_8.wav  \n",
            "  inflating: command_dataset/yes/yes_23.wav  \n",
            "  inflating: command_dataset/yes/yes_5.wav  \n",
            "  inflating: command_dataset/yes/yes_9.wav  \n",
            "  inflating: command_dataset/yes/yes_4.wav  \n",
            "  inflating: command_dataset/play/play_51.wav  \n",
            "  inflating: command_dataset/play/play_90.wav  \n",
            "  inflating: command_dataset/play/play_48.wav  \n",
            "  inflating: command_dataset/play/play_75.wav  \n",
            "  inflating: command_dataset/yes/yes_25.wav  \n",
            "  inflating: command_dataset/play/play_56.wav  \n",
            "  inflating: command_dataset/play/play_45.wav  \n",
            "  inflating: command_dataset/play/play_69.wav  \n",
            "  inflating: command_dataset/play/play_70.wav  \n",
            "  inflating: command_dataset/play/play_59.wav  \n",
            "  inflating: command_dataset/yes/yes_2.wav  \n",
            "  inflating: command_dataset/play/play_73.wav  \n",
            "  inflating: command_dataset/play/play_98.wav  \n",
            "  inflating: command_dataset/play/play_55.wav  \n",
            "  inflating: command_dataset/play/play_32.wav  \n",
            "  inflating: command_dataset/play/play_94.wav  \n",
            "  inflating: command_dataset/play/play_33.wav  \n",
            "  inflating: command_dataset/play/play_74.wav  \n",
            "  inflating: command_dataset/play/play_81.wav  \n",
            "  inflating: command_dataset/play/play_76.wav  \n",
            "  inflating: command_dataset/play/play_72.wav  \n",
            "  inflating: command_dataset/play/play_31.wav  \n",
            "  inflating: command_dataset/play/play_64.wav  \n",
            "  inflating: command_dataset/play/play_52.wav  \n",
            "  inflating: command_dataset/play/play_92.wav  \n",
            "  inflating: command_dataset/play/play_60.wav  \n",
            "  inflating: command_dataset/play/play_50.wav  \n",
            "  inflating: command_dataset/play/play_54.wav  \n",
            "  inflating: command_dataset/play/play_57.wav  \n",
            "  inflating: command_dataset/play/play_89.wav  \n",
            "  inflating: command_dataset/play/play_99.wav  \n",
            "  inflating: command_dataset/play/play_39.wav  \n",
            "  inflating: command_dataset/play/play_58.wav  \n",
            "  inflating: command_dataset/play/play_87.wav  \n",
            "  inflating: command_dataset/play/play_80.wav  \n",
            "  inflating: command_dataset/play/play_36.wav  \n",
            "  inflating: command_dataset/play/play_46.wav  \n",
            "  inflating: command_dataset/play/play_97.wav  \n",
            "  inflating: command_dataset/play/play_35.wav  \n",
            "  inflating: command_dataset/play/play_82.wav  \n",
            "  inflating: command_dataset/play/play_71.wav  \n",
            "  inflating: command_dataset/play/play_77.wav  \n",
            "  inflating: command_dataset/play/play_41.wav  \n",
            "  inflating: command_dataset/play/play_44.wav  \n",
            "  inflating: command_dataset/play/play_85.wav  \n",
            "  inflating: command_dataset/play/play_79.wav  \n",
            "  inflating: command_dataset/play/play_88.wav  \n",
            "  inflating: command_dataset/play/play_65.wav  \n",
            "  inflating: command_dataset/play/play_43.wav  \n",
            "  inflating: command_dataset/play/play_83.wav  \n",
            "  inflating: command_dataset/play/play_42.wav  \n",
            "  inflating: command_dataset/yes/yes_27.wav  \n",
            "  inflating: command_dataset/play/play_78.wav  \n",
            "  inflating: command_dataset/play/play_68.wav  \n",
            "  inflating: command_dataset/play/play_67.wav  \n",
            "  inflating: command_dataset/play/play_86.wav  \n",
            "  inflating: command_dataset/stop/stop_78.wav  \n",
            "  inflating: command_dataset/stop/stop_68.wav  \n",
            "  inflating: command_dataset/stop/stop_110.wav  \n",
            "  inflating: command_dataset/stop/stop_103.wav  \n",
            "  inflating: command_dataset/play/play_66.wav  \n",
            "  inflating: command_dataset/play/play_40.wav  \n",
            "  inflating: command_dataset/stop/stop_50.wav  \n",
            "  inflating: command_dataset/stop/stop_108.wav  \n",
            "  inflating: command_dataset/stop/stop_81.wav  \n",
            "  inflating: command_dataset/play/play_91.wav  \n",
            "  inflating: command_dataset/play/play_47.wav  \n",
            "  inflating: command_dataset/stop/stop_64.wav  \n",
            "  inflating: command_dataset/stop/stop_44.wav  \n",
            "  inflating: command_dataset/play/play_100.wav  \n",
            "  inflating: command_dataset/stop/stop_52.wav  \n",
            "  inflating: command_dataset/stop/stop_62.wav  \n",
            "  inflating: command_dataset/no/no_75.wav  \n",
            "  inflating: command_dataset/play/play_49.wav  \n",
            "  inflating: command_dataset/no/no_53.wav  \n",
            "  inflating: command_dataset/play/play_34.wav  \n",
            "  inflating: command_dataset/play/play_53.wav  \n",
            "  inflating: command_dataset/play/play_38.wav  \n",
            "  inflating: command_dataset/play/play_61.wav  \n",
            "  inflating: command_dataset/play/play_62.wav  \n",
            "  inflating: command_dataset/play/play_96.wav  \n",
            "  inflating: command_dataset/play/play_37.wav  \n",
            "  inflating: command_dataset/stop/stop_59.wav  \n",
            "  inflating: command_dataset/stop/stop_70.wav  \n",
            "  inflating: command_dataset/stop/stop_83.wav  \n",
            "  inflating: command_dataset/stop/stop_97.wav  \n",
            "  inflating: command_dataset/play/play_84.wav  \n",
            "  inflating: command_dataset/play/play_63.wav  \n",
            "  inflating: command_dataset/play/play_95.wav  \n",
            "  inflating: command_dataset/no/no_69.wav  \n",
            "  inflating: command_dataset/no/no_113.wav  \n",
            "  inflating: command_dataset/stop/stop_92.wav  \n",
            "  inflating: command_dataset/play/play_27.wav  \n",
            "  inflating: command_dataset/stop/stop_85.wav  \n",
            "  inflating: command_dataset/no/no_109.wav  \n",
            "  inflating: command_dataset/no/no_134.wav  \n",
            "  inflating: command_dataset/play/play_28.wav  \n",
            "  inflating: command_dataset/play/play_93.wav  \n",
            "  inflating: command_dataset/play/play_26.wav  \n",
            "  inflating: command_dataset/stop/stop_99.wav  \n",
            "  inflating: command_dataset/play/play_29.wav  \n",
            "  inflating: command_dataset/stop/stop_58.wav  \n",
            "  inflating: command_dataset/play/play_25.wav  \n",
            "  inflating: command_dataset/no/no_102.wav  \n",
            "  inflating: command_dataset/play/play_22.wav  \n",
            "  inflating: command_dataset/play/play_19.wav  \n",
            "  inflating: command_dataset/no/no_128.wav  \n",
            "  inflating: command_dataset/stop/stop_96.wav  \n",
            "  inflating: command_dataset/stop/stop_69.wav  \n",
            "  inflating: command_dataset/play/play_21.wav  \n",
            "  inflating: command_dataset/play/play_30.wav  \n",
            "  inflating: command_dataset/play/play_23.wav  \n",
            "  inflating: command_dataset/no/no_118.wav  \n",
            "  inflating: command_dataset/no/no_136.wav  \n",
            "  inflating: command_dataset/stop/stop_77.wav  \n",
            "  inflating: command_dataset/stop/stop_54.wav  \n",
            "  inflating: command_dataset/play/play_18.wav  \n",
            "  inflating: command_dataset/no/no_146.wav  \n",
            "  inflating: command_dataset/no/no_144.wav  \n",
            "  inflating: command_dataset/stop/stop_80.wav  \n",
            "  inflating: command_dataset/stop/stop_79.wav  \n",
            "  inflating: command_dataset/no/no_132.wav  \n",
            "  inflating: command_dataset/stop/stop_109.wav  \n",
            "  inflating: command_dataset/no/no_95.wav  \n",
            "  inflating: command_dataset/no/no_120.wav  \n",
            "  inflating: command_dataset/play/play_20.wav  \n",
            "  inflating: command_dataset/stop/stop_101.wav  \n",
            "  inflating: command_dataset/stop/stop_65.wav  \n",
            "  inflating: command_dataset/stop/stop_82.wav  \n",
            "  inflating: command_dataset/no/no_110.wav  \n",
            "  inflating: command_dataset/no/no_114.wav  \n",
            "  inflating: command_dataset/play/play_13.wav  \n",
            "  inflating: command_dataset/play/play_16.wav  \n",
            "  inflating: command_dataset/play/play_24.wav  \n",
            "  inflating: command_dataset/stop/stop_84.wav  \n",
            "  inflating: command_dataset/play/play_14.wav  \n",
            "  inflating: command_dataset/play/play_17.wav  \n",
            "  inflating: command_dataset/stop/stop_42.wav  \n",
            "  inflating: command_dataset/play/play_10.wav  \n",
            "  inflating: command_dataset/no/no_97.wav  \n",
            "  inflating: command_dataset/stop/stop_57.wav  \n",
            "  inflating: command_dataset/no/no_133.wav  \n",
            "  inflating: command_dataset/play/play_8.wav  \n",
            "  inflating: command_dataset/stop/stop_88.wav  \n",
            "  inflating: command_dataset/stop/stop_100.wav  \n",
            "  inflating: command_dataset/stop/stop_55.wav  \n",
            "  inflating: command_dataset/play/play_15.wav  \n",
            "  inflating: command_dataset/no/no_50.wav  \n",
            "  inflating: command_dataset/stop/stop_90.wav  \n",
            "  inflating: command_dataset/stop/stop_102.wav  \n",
            "  inflating: command_dataset/play/play_5.wav  \n",
            "  inflating: command_dataset/play/play_4.wav  \n",
            "  inflating: command_dataset/play/play_12.wav  \n",
            "  inflating: command_dataset/play/play_6.wav  \n",
            "  inflating: command_dataset/play/play_9.wav  \n",
            "  inflating: command_dataset/no/no_70.wav  \n",
            "  inflating: command_dataset/no/no_57.wav  \n",
            "  inflating: command_dataset/play/play_7.wav  \n",
            "  inflating: command_dataset/play/play_1.wav  \n",
            "  inflating: command_dataset/stop/stop_91.wav  \n",
            "  inflating: command_dataset/stop/stop_71.wav  \n",
            "  inflating: command_dataset/stop/stop_46.wav  \n",
            "  inflating: command_dataset/no/no_65.wav  \n",
            "  inflating: command_dataset/no/no_63.wav  \n",
            "  inflating: command_dataset/no/no_92.wav  \n",
            "  inflating: command_dataset/play/play_2.wav  \n",
            "  inflating: command_dataset/stop/stop_63.wav  \n",
            "  inflating: command_dataset/no/no_80.wav  \n",
            "  inflating: command_dataset/no/no_117.wav  \n",
            "  inflating: command_dataset/no/no_51.wav  \n",
            "  inflating: command_dataset/stop/stop_75.wav  \n",
            "  inflating: command_dataset/stop/stop_72.wav  \n",
            "  inflating: command_dataset/stop/stop_74.wav  \n",
            "  inflating: command_dataset/stop/stop_53.wav  \n",
            "  inflating: command_dataset/no/no_106.wav  \n",
            "  inflating: command_dataset/stop/stop_45.wav  \n",
            "  inflating: command_dataset/no/no_94.wav  \n",
            "  inflating: command_dataset/no/no_59.wav  \n",
            "  inflating: command_dataset/stop/stop_47.wav  \n",
            "  inflating: command_dataset/stop/stop_73.wav  \n",
            "  inflating: command_dataset/no/no_86.wav  \n",
            "  inflating: command_dataset/no/no_49.wav  \n",
            "  inflating: command_dataset/stop/stop_98.wav  \n",
            "  inflating: command_dataset/stop/stop_87.wav  \n",
            "  inflating: command_dataset/no/no_64.wav  \n",
            "  inflating: command_dataset/no/no_62.wav  \n",
            "  inflating: command_dataset/no/no_54.wav  \n",
            "  inflating: command_dataset/play/play_3.wav  \n",
            "  inflating: command_dataset/stop/stop_60.wav  \n",
            "  inflating: command_dataset/no/no_93.wav  \n",
            "  inflating: command_dataset/stop/stop_76.wav  \n",
            "  inflating: command_dataset/stop/stop_105.wav  \n",
            "  inflating: command_dataset/no/no_105.wav  \n",
            "  inflating: command_dataset/stop/stop_41.wav  \n",
            "  inflating: command_dataset/stop/stop_95.wav  \n",
            "  inflating: command_dataset/stop/stop_107.wav  \n",
            "  inflating: command_dataset/stop/stop_104.wav  \n",
            "  inflating: command_dataset/stop/stop_67.wav  \n",
            "  inflating: command_dataset/stop/stop_93.wav  \n",
            "  inflating: command_dataset/stop/stop_61.wav  \n",
            "  inflating: command_dataset/no/no_116.wav  \n",
            "  inflating: command_dataset/play/play_11.wav  \n",
            "  inflating: command_dataset/stop/stop_94.wav  \n",
            "  inflating: command_dataset/no/no_89.wav  \n",
            "  inflating: command_dataset/no/no_42.wav  \n",
            "  inflating: command_dataset/stop/stop_86.wav  \n",
            "  inflating: command_dataset/no/no_84.wav  \n",
            "  inflating: command_dataset/no/no_148.wav  \n",
            "  inflating: command_dataset/stop/stop_49.wav  \n",
            "  inflating: command_dataset/stop/stop_89.wav  \n",
            "  inflating: command_dataset/stop/stop_106.wav  \n",
            "  inflating: command_dataset/no/no_56.wav  \n",
            "  inflating: command_dataset/stop/stop_51.wav  \n",
            "  inflating: command_dataset/no/no_47.wav  \n",
            "  inflating: command_dataset/no/no_137.wav  \n",
            "  inflating: command_dataset/stop/stop_66.wav  \n",
            "  inflating: command_dataset/stop/stop_56.wav  \n",
            "  inflating: command_dataset/no/no_55.wav  \n",
            "  inflating: command_dataset/stop/stop_26.wav  \n",
            "  inflating: command_dataset/stop/stop_22.wav  \n",
            "  inflating: command_dataset/no/no_101.wav  \n",
            "  inflating: command_dataset/stop/stop_29.wav  \n",
            "  inflating: command_dataset/stop/stop_43.wav  \n",
            "  inflating: command_dataset/no/no_87.wav  \n",
            "  inflating: command_dataset/stop/stop_48.wav  \n",
            "  inflating: command_dataset/stop/stop_27.wav  \n",
            "  inflating: command_dataset/no/no_82.wav  \n",
            "  inflating: command_dataset/stop/stop_20.wav  \n",
            "  inflating: command_dataset/stop/stop_24.wav  \n",
            "  inflating: command_dataset/no/no_138.wav  \n",
            "  inflating: command_dataset/no/no_142.wav  \n",
            "  inflating: command_dataset/stop/stop_17.wav  \n",
            "  inflating: command_dataset/no/no_58.wav  \n",
            "  inflating: command_dataset/no/no_91.wav  \n",
            "  inflating: command_dataset/stop/stop_25.wav  \n",
            "  inflating: command_dataset/no/no_88.wav  \n",
            "  inflating: command_dataset/stop/stop_28.wav  \n",
            "  inflating: command_dataset/no/no_121.wav  \n",
            "  inflating: command_dataset/stop/stop_19.wav  \n",
            "  inflating: command_dataset/stop/stop_15.wav  \n",
            "  inflating: command_dataset/stop/stop_23.wav  \n",
            "  inflating: command_dataset/stop/stop_16.wav  \n",
            "  inflating: command_dataset/stop/stop_12.wav  \n",
            "  inflating: command_dataset/no/no_145.wav  \n",
            "  inflating: command_dataset/no/no_72.wav  \n",
            "  inflating: command_dataset/no/no_81.wav  \n",
            "  inflating: command_dataset/stop/stop_9.wav  \n",
            "  inflating: command_dataset/stop/stop_30.wav  \n",
            "  inflating: command_dataset/no/no_107.wav  \n",
            "  inflating: command_dataset/no/no_108.wav  \n",
            "  inflating: command_dataset/no/no_52.wav  \n",
            "  inflating: command_dataset/stop/stop_7.wav  \n",
            "  inflating: command_dataset/no/no_149.wav  \n",
            "  inflating: command_dataset/stop/stop_11.wav  \n",
            "  inflating: command_dataset/stop/stop_10.wav  \n",
            "  inflating: command_dataset/stop/stop_18.wav  \n",
            "  inflating: command_dataset/stop/stop_4.wav  \n",
            "  inflating: command_dataset/stop/stop_21.wav  \n",
            "  inflating: command_dataset/no/no_96.wav  \n",
            "  inflating: command_dataset/no/no_45.wav  \n",
            "  inflating: command_dataset/no/no_43.wav  \n",
            "  inflating: command_dataset/stop/stop_6.wav  \n",
            "  inflating: command_dataset/stop/stop_2.wav  \n",
            "  inflating: command_dataset/stop/stop_14.wav  \n",
            "  inflating: command_dataset/stop/stop_5.wav  \n",
            "  inflating: command_dataset/no/no_67.wav  \n",
            "  inflating: command_dataset/no/no_124.wav  \n",
            "  inflating: command_dataset/no/no_129.wav  \n",
            "  inflating: command_dataset/no/no_60.wav  \n",
            "  inflating: command_dataset/no/no_44.wav  \n",
            "  inflating: command_dataset/no/no_104.wav  \n",
            "  inflating: command_dataset/stop/stop_3.wav  \n",
            "  inflating: command_dataset/no/no_76.wav  \n",
            "  inflating: command_dataset/no/no_135.wav  \n",
            "  inflating: command_dataset/stop/stop_1.wav  \n",
            "  inflating: command_dataset/no/no_83.wav  \n",
            "  inflating: command_dataset/no/no_119.wav  \n",
            "  inflating: command_dataset/no/no_140.wav  \n",
            "  inflating: command_dataset/no/no_139.wav  \n",
            "  inflating: command_dataset/stop/stop_13.wav  \n",
            "  inflating: command_dataset/no/no_61.wav  \n",
            "  inflating: command_dataset/no/no_66.wav  \n",
            "  inflating: command_dataset/no/no_85.wav  \n",
            "  inflating: command_dataset/no/no_115.wav  \n",
            "  inflating: command_dataset/no/no_150.wav  \n",
            "  inflating: command_dataset/no/no_126.wav  \n",
            "  inflating: command_dataset/no/no_125.wav  \n",
            "  inflating: command_dataset/no/no_112.wav  \n",
            "  inflating: command_dataset/no/no_103.wav  \n",
            "  inflating: command_dataset/no/no_127.wav  \n",
            "  inflating: command_dataset/no/no_98.wav  \n",
            "  inflating: command_dataset/no/no_100.wav  \n",
            "  inflating: command_dataset/no/no_68.wav  \n",
            "  inflating: command_dataset/no/no_77.wav  \n",
            "  inflating: command_dataset/no/no_28.wav  \n",
            "  inflating: command_dataset/no/no_36.wav  \n",
            "  inflating: command_dataset/no/no_79.wav  \n",
            "  inflating: command_dataset/no/no_73.wav  \n",
            "  inflating: command_dataset/no/no_46.wav  \n",
            "  inflating: command_dataset/no/no_41.wav  \n",
            "  inflating: command_dataset/no/no_143.wav  \n",
            "  inflating: command_dataset/stop/stop_8.wav  \n",
            "  inflating: command_dataset/no/no_29.wav  \n",
            "  inflating: command_dataset/no/no_31.wav  \n",
            "  inflating: command_dataset/no/no_32.wav  \n",
            "  inflating: command_dataset/no/no_131.wav  \n",
            "  inflating: command_dataset/no/no_33.wav  \n",
            "  inflating: command_dataset/no/no_147.wav  \n",
            "  inflating: command_dataset/no/no_37.wav  \n",
            "  inflating: command_dataset/no/no_74.wav  \n",
            "  inflating: command_dataset/no/no_111.wav  \n",
            "  inflating: command_dataset/no/no_38.wav  \n",
            "  inflating: command_dataset/no/no_90.wav  \n",
            "  inflating: command_dataset/no/no_130.wav  \n",
            "  inflating: command_dataset/no/no_123.wav  \n",
            "  inflating: command_dataset/no/no_122.wav  \n",
            "  inflating: command_dataset/no/no_39.wav  \n",
            "  inflating: command_dataset/no/no_30.wav  \n",
            "  inflating: command_dataset/no/no_25.wav  \n",
            "  inflating: command_dataset/no/no_35.wav  \n",
            "  inflating: command_dataset/no/no_24.wav  \n",
            "  inflating: command_dataset/no/no_71.wav  \n",
            "  inflating: command_dataset/no/no_141.wav  \n",
            "  inflating: command_dataset/no/no_48.wav  \n",
            "  inflating: command_dataset/no/no_18.wav  \n",
            "  inflating: command_dataset/no/no_22.wav  \n",
            "  inflating: command_dataset/no/no_23.wav  \n",
            "  inflating: command_dataset/no/no_1.wav  \n",
            "  inflating: command_dataset/no/no_27.wav  \n",
            "  inflating: command_dataset/no/no_19.wav  \n",
            "  inflating: command_dataset/no/no_40.wav  \n",
            "  inflating: command_dataset/no/no_16.wav  \n",
            "  inflating: command_dataset/no/no_9.wav  \n",
            "  inflating: command_dataset/no/no_15.wav  \n",
            "  inflating: command_dataset/no/no_6.wav  \n",
            "  inflating: command_dataset/no/no_3.wav  \n",
            "  inflating: command_dataset/no/no_21.wav  \n",
            "  inflating: command_dataset/no/no_20.wav  \n",
            "  inflating: command_dataset/no/no_26.wav  \n",
            "  inflating: command_dataset/no/no_10.wav  \n",
            "  inflating: command_dataset/no/no_11.wav  \n",
            "  inflating: command_dataset/no/no_2.wav  \n",
            "  inflating: command_dataset/no/no_5.wav  \n",
            "  inflating: command_dataset/no/no_34.wav  \n",
            "  inflating: command_dataset/no/no_17.wav  \n",
            "  inflating: command_dataset/no/no_99.wav  \n",
            "  inflating: command_dataset/no/no_12.wav  \n",
            "  inflating: command_dataset/no/no_4.wav  \n",
            "  inflating: command_dataset/no/no_14.wav  \n",
            "  inflating: command_dataset/no/no_13.wav  \n",
            "  inflating: command_dataset/no/no_8.wav  \n",
            "  inflating: command_dataset/no/no_7.wav  \n",
            "  inflating: command_dataset/no/no_78.wav  \n"
          ]
        }
      ]
    },
    {
      "cell_type": "code",
      "execution_count": null,
      "metadata": {
        "id": "dJN9kwzW7qeg"
      },
      "outputs": [],
      "source": [
        "import numpy as np\n",
        "import pandas as pd\n",
        "import matplotlib.pyplot as plt\n",
        "import tensorflow as tf\n",
        "from tensorflow.keras import layers, models\n",
        "import librosa\n",
        "import os\n",
        "from sklearn.model_selection import train_test_split\n",
        "from sklearn.preprocessing import LabelEncoder\n",
        "from tensorflow.keras.utils import to_categorical\n",
        "import IPython.display as ipd\n",
        "\n",
        "# Define your commands\n",
        "COMMANDS = ['yes', 'no', 'play', 'stop']\n",
        "\n",
        "# Set path to your custom dataset\n",
        "custom_dataset_path = '/content/command_dataset'"
      ]
    },
    {
      "cell_type": "code",
      "source": [
        "# Create data arrays\n",
        "X = []  # Will hold audio features\n",
        "y = []  # Will hold labels\n",
        "\n",
        "# Process audio files\n",
        "for command in COMMANDS:\n",
        "    print(f\"Processing {command} files...\")\n",
        "    command_dir = os.path.join(custom_dataset_path, command)\n",
        "\n",
        "    for filename in os.listdir(command_dir):\n",
        "        if filename.endswith('.wav'):\n",
        "            file_path = os.path.join(command_dir, filename)\n",
        "            try:\n",
        "                # Load audio file\n",
        "                audio, sr = librosa.load(file_path, sr=16000, duration=1)\n",
        "\n",
        "                # Ensure consistent length\n",
        "                if len(audio) < sr:\n",
        "                    audio = np.pad(audio, (0, sr - len(audio)))\n",
        "                else:\n",
        "                    audio = audio[:sr]\n",
        "\n",
        "                # Extract MFCC features with more coefficients\n",
        "                mfccs = librosa.feature.mfcc(y=audio, sr=sr, n_mfcc=20)\n",
        "\n",
        "                # Add delta features (changes over time)\n",
        "                delta_mfccs = librosa.feature.delta(mfccs)\n",
        "                delta2_mfccs = librosa.feature.delta(mfccs, order=2)\n",
        "\n",
        "                # Combine features\n",
        "                combined_features = np.concatenate([mfccs, delta_mfccs, delta2_mfccs], axis=0)\n",
        "\n",
        "                # Add to dataset\n",
        "                X.append(combined_features)\n",
        "                y.append(command)\n",
        "            except Exception as e:\n",
        "                print(f\"Error processing {file_path}: {str(e)}\")\n",
        "\n",
        "# Convert lists to numpy arrays\n",
        "X = np.array(X)\n",
        "y = np.array(y)\n",
        "\n",
        "# Print initial shape\n",
        "print(f\"X shape: {X.shape}\")\n",
        "\n",
        "# Encode labels\n",
        "label_encoder = LabelEncoder()\n",
        "y_encoded = label_encoder.fit_transform(y)\n",
        "y_categorical = to_categorical(y_encoded)\n",
        "\n",
        "# Split data\n",
        "X_train, X_test, y_train, y_test = train_test_split(\n",
        "    X, y_categorical, test_size=0.2, random_state=42, stratify=y_encoded\n",
        ")"
      ],
      "metadata": {
        "colab": {
          "base_uri": "https://localhost:8080/"
        },
        "id": "9XNvlkN_8ZJr",
        "outputId": "5de26d85-f26c-47a9-e7b0-8c7bc0e8a0e6"
      },
      "execution_count": null,
      "outputs": [
        {
          "output_type": "stream",
          "name": "stdout",
          "text": [
            "Processing yes files...\n",
            "Processing no files...\n",
            "Processing play files...\n",
            "Processing stop files...\n",
            "X shape: (450, 60, 32)\n"
          ]
        }
      ]
    },
    {
      "cell_type": "code",
      "source": [
        "# Build CNN+LSTM model\n",
        "def create_cnn_lstm_model(input_shape, num_classes):\n",
        "    \"\"\"\n",
        "    Create a model that combines CNN and LSTM layers for audio classification.\n",
        "    CNN layers extract features, then LSTM processes the temporal relationships.\n",
        "    \"\"\"\n",
        "    model = models.Sequential([\n",
        "        # CNN layers to extract features\n",
        "        layers.Conv2D(32, (3, 3), activation='relu', padding='same', input_shape=input_shape),\n",
        "        layers.BatchNormalization(),\n",
        "        layers.MaxPooling2D((2, 2)),\n",
        "\n",
        "        layers.Conv2D(64, (3, 3), activation='relu', padding='same'),\n",
        "        layers.BatchNormalization(),\n",
        "        layers.MaxPooling2D((2, 2)),\n",
        "\n",
        "        layers.Conv2D(128, (3, 3), activation='relu', padding='same'),\n",
        "        layers.BatchNormalization(),\n",
        "\n",
        "        # Reshape for LSTM: (batch, time_steps, features)\n",
        "        # Convert the 2D feature maps to a sequence\n",
        "        layers.Reshape((-1, 128)),\n",
        "\n",
        "        # LSTM layers to process temporal patterns\n",
        "        layers.Bidirectional(layers.LSTM(64, return_sequences=True)),\n",
        "        layers.Dropout(0.4),\n",
        "        layers.Bidirectional(layers.LSTM(64)),\n",
        "        layers.Dropout(0.4),\n",
        "\n",
        "        # Dense layers for classification\n",
        "        layers.Dense(128, activation='relu'),\n",
        "        layers.BatchNormalization(),\n",
        "        layers.Dropout(0.5),\n",
        "        layers.Dense(num_classes, activation='softmax')\n",
        "    ])\n",
        "\n",
        "    return model\n",
        "\n",
        "# Reshape X for CNN input (samples, height, width, channels)\n",
        "X_train = X_train.reshape(X_train.shape[0], X_train.shape[1], X_train.shape[2], 1)\n",
        "X_test = X_test.reshape(X_test.shape[0], X_test.shape[1], X_test.shape[2], 1)\n",
        "\n",
        "# Create the model\n",
        "model = create_cnn_lstm_model((X_train.shape[1], X_train.shape[2], 1), len(COMMANDS))\n",
        "\n",
        "# Print model summary\n",
        "model.summary()\n",
        "\n",
        "# Compile model with learning rate scheduling\n",
        "initial_learning_rate = 0.001\n",
        "lr_schedule = tf.keras.optimizers.schedules.ExponentialDecay(\n",
        "    initial_learning_rate, decay_steps=1000, decay_rate=0.9, staircase=True\n",
        ")\n",
        "\n",
        "optimizer = tf.keras.optimizers.Adam(learning_rate=0.001)  # Fixed learning rate\n",
        "\n",
        "model.compile(\n",
        "    optimizer=optimizer,\n",
        "    loss='categorical_crossentropy',\n",
        "    metrics=['accuracy']\n",
        ")\n"
      ],
      "metadata": {
        "colab": {
          "base_uri": "https://localhost:8080/",
          "height": 753
        },
        "id": "sLdE146W8k5j",
        "outputId": "cb2dd329-ec89-4edd-bc5d-c181f5ee0725"
      },
      "execution_count": null,
      "outputs": [
        {
          "output_type": "display_data",
          "data": {
            "text/plain": [
              "\u001b[1mModel: \"sequential_1\"\u001b[0m\n"
            ],
            "text/html": [
              "<pre style=\"white-space:pre;overflow-x:auto;line-height:normal;font-family:Menlo,'DejaVu Sans Mono',consolas,'Courier New',monospace\"><span style=\"font-weight: bold\">Model: \"sequential_1\"</span>\n",
              "</pre>\n"
            ]
          },
          "metadata": {}
        },
        {
          "output_type": "display_data",
          "data": {
            "text/plain": [
              "┏━━━━━━━━━━━━━━━━━━━━━━━━━━━━━━━━━━━━━━┳━━━━━━━━━━━━━━━━━━━━━━━━━━━━━┳━━━━━━━━━━━━━━━━━┓\n",
              "┃\u001b[1m \u001b[0m\u001b[1mLayer (type)                        \u001b[0m\u001b[1m \u001b[0m┃\u001b[1m \u001b[0m\u001b[1mOutput Shape               \u001b[0m\u001b[1m \u001b[0m┃\u001b[1m \u001b[0m\u001b[1m        Param #\u001b[0m\u001b[1m \u001b[0m┃\n",
              "┡━━━━━━━━━━━━━━━━━━━━━━━━━━━━━━━━━━━━━━╇━━━━━━━━━━━━━━━━━━━━━━━━━━━━━╇━━━━━━━━━━━━━━━━━┩\n",
              "│ conv2d_3 (\u001b[38;5;33mConv2D\u001b[0m)                    │ (\u001b[38;5;45mNone\u001b[0m, \u001b[38;5;34m60\u001b[0m, \u001b[38;5;34m32\u001b[0m, \u001b[38;5;34m32\u001b[0m)          │             \u001b[38;5;34m320\u001b[0m │\n",
              "├──────────────────────────────────────┼─────────────────────────────┼─────────────────┤\n",
              "│ batch_normalization_4                │ (\u001b[38;5;45mNone\u001b[0m, \u001b[38;5;34m60\u001b[0m, \u001b[38;5;34m32\u001b[0m, \u001b[38;5;34m32\u001b[0m)          │             \u001b[38;5;34m128\u001b[0m │\n",
              "│ (\u001b[38;5;33mBatchNormalization\u001b[0m)                 │                             │                 │\n",
              "├──────────────────────────────────────┼─────────────────────────────┼─────────────────┤\n",
              "│ max_pooling2d_2 (\u001b[38;5;33mMaxPooling2D\u001b[0m)       │ (\u001b[38;5;45mNone\u001b[0m, \u001b[38;5;34m30\u001b[0m, \u001b[38;5;34m16\u001b[0m, \u001b[38;5;34m32\u001b[0m)          │               \u001b[38;5;34m0\u001b[0m │\n",
              "├──────────────────────────────────────┼─────────────────────────────┼─────────────────┤\n",
              "│ conv2d_4 (\u001b[38;5;33mConv2D\u001b[0m)                    │ (\u001b[38;5;45mNone\u001b[0m, \u001b[38;5;34m30\u001b[0m, \u001b[38;5;34m16\u001b[0m, \u001b[38;5;34m64\u001b[0m)          │          \u001b[38;5;34m18,496\u001b[0m │\n",
              "├──────────────────────────────────────┼─────────────────────────────┼─────────────────┤\n",
              "│ batch_normalization_5                │ (\u001b[38;5;45mNone\u001b[0m, \u001b[38;5;34m30\u001b[0m, \u001b[38;5;34m16\u001b[0m, \u001b[38;5;34m64\u001b[0m)          │             \u001b[38;5;34m256\u001b[0m │\n",
              "│ (\u001b[38;5;33mBatchNormalization\u001b[0m)                 │                             │                 │\n",
              "├──────────────────────────────────────┼─────────────────────────────┼─────────────────┤\n",
              "│ max_pooling2d_3 (\u001b[38;5;33mMaxPooling2D\u001b[0m)       │ (\u001b[38;5;45mNone\u001b[0m, \u001b[38;5;34m15\u001b[0m, \u001b[38;5;34m8\u001b[0m, \u001b[38;5;34m64\u001b[0m)           │               \u001b[38;5;34m0\u001b[0m │\n",
              "├──────────────────────────────────────┼─────────────────────────────┼─────────────────┤\n",
              "│ conv2d_5 (\u001b[38;5;33mConv2D\u001b[0m)                    │ (\u001b[38;5;45mNone\u001b[0m, \u001b[38;5;34m15\u001b[0m, \u001b[38;5;34m8\u001b[0m, \u001b[38;5;34m128\u001b[0m)          │          \u001b[38;5;34m73,856\u001b[0m │\n",
              "├──────────────────────────────────────┼─────────────────────────────┼─────────────────┤\n",
              "│ batch_normalization_6                │ (\u001b[38;5;45mNone\u001b[0m, \u001b[38;5;34m15\u001b[0m, \u001b[38;5;34m8\u001b[0m, \u001b[38;5;34m128\u001b[0m)          │             \u001b[38;5;34m512\u001b[0m │\n",
              "│ (\u001b[38;5;33mBatchNormalization\u001b[0m)                 │                             │                 │\n",
              "├──────────────────────────────────────┼─────────────────────────────┼─────────────────┤\n",
              "│ reshape_1 (\u001b[38;5;33mReshape\u001b[0m)                  │ (\u001b[38;5;45mNone\u001b[0m, \u001b[38;5;34m120\u001b[0m, \u001b[38;5;34m128\u001b[0m)            │               \u001b[38;5;34m0\u001b[0m │\n",
              "├──────────────────────────────────────┼─────────────────────────────┼─────────────────┤\n",
              "│ bidirectional_2 (\u001b[38;5;33mBidirectional\u001b[0m)      │ (\u001b[38;5;45mNone\u001b[0m, \u001b[38;5;34m120\u001b[0m, \u001b[38;5;34m128\u001b[0m)            │          \u001b[38;5;34m98,816\u001b[0m │\n",
              "├──────────────────────────────────────┼─────────────────────────────┼─────────────────┤\n",
              "│ dropout_3 (\u001b[38;5;33mDropout\u001b[0m)                  │ (\u001b[38;5;45mNone\u001b[0m, \u001b[38;5;34m120\u001b[0m, \u001b[38;5;34m128\u001b[0m)            │               \u001b[38;5;34m0\u001b[0m │\n",
              "├──────────────────────────────────────┼─────────────────────────────┼─────────────────┤\n",
              "│ bidirectional_3 (\u001b[38;5;33mBidirectional\u001b[0m)      │ (\u001b[38;5;45mNone\u001b[0m, \u001b[38;5;34m128\u001b[0m)                 │          \u001b[38;5;34m98,816\u001b[0m │\n",
              "├──────────────────────────────────────┼─────────────────────────────┼─────────────────┤\n",
              "│ dropout_4 (\u001b[38;5;33mDropout\u001b[0m)                  │ (\u001b[38;5;45mNone\u001b[0m, \u001b[38;5;34m128\u001b[0m)                 │               \u001b[38;5;34m0\u001b[0m │\n",
              "├──────────────────────────────────────┼─────────────────────────────┼─────────────────┤\n",
              "│ dense_2 (\u001b[38;5;33mDense\u001b[0m)                      │ (\u001b[38;5;45mNone\u001b[0m, \u001b[38;5;34m128\u001b[0m)                 │          \u001b[38;5;34m16,512\u001b[0m │\n",
              "├──────────────────────────────────────┼─────────────────────────────┼─────────────────┤\n",
              "│ batch_normalization_7                │ (\u001b[38;5;45mNone\u001b[0m, \u001b[38;5;34m128\u001b[0m)                 │             \u001b[38;5;34m512\u001b[0m │\n",
              "│ (\u001b[38;5;33mBatchNormalization\u001b[0m)                 │                             │                 │\n",
              "├──────────────────────────────────────┼─────────────────────────────┼─────────────────┤\n",
              "│ dropout_5 (\u001b[38;5;33mDropout\u001b[0m)                  │ (\u001b[38;5;45mNone\u001b[0m, \u001b[38;5;34m128\u001b[0m)                 │               \u001b[38;5;34m0\u001b[0m │\n",
              "├──────────────────────────────────────┼─────────────────────────────┼─────────────────┤\n",
              "│ dense_3 (\u001b[38;5;33mDense\u001b[0m)                      │ (\u001b[38;5;45mNone\u001b[0m, \u001b[38;5;34m4\u001b[0m)                   │             \u001b[38;5;34m516\u001b[0m │\n",
              "└──────────────────────────────────────┴─────────────────────────────┴─────────────────┘\n"
            ],
            "text/html": [
              "<pre style=\"white-space:pre;overflow-x:auto;line-height:normal;font-family:Menlo,'DejaVu Sans Mono',consolas,'Courier New',monospace\">┏━━━━━━━━━━━━━━━━━━━━━━━━━━━━━━━━━━━━━━┳━━━━━━━━━━━━━━━━━━━━━━━━━━━━━┳━━━━━━━━━━━━━━━━━┓\n",
              "┃<span style=\"font-weight: bold\"> Layer (type)                         </span>┃<span style=\"font-weight: bold\"> Output Shape                </span>┃<span style=\"font-weight: bold\">         Param # </span>┃\n",
              "┡━━━━━━━━━━━━━━━━━━━━━━━━━━━━━━━━━━━━━━╇━━━━━━━━━━━━━━━━━━━━━━━━━━━━━╇━━━━━━━━━━━━━━━━━┩\n",
              "│ conv2d_3 (<span style=\"color: #0087ff; text-decoration-color: #0087ff\">Conv2D</span>)                    │ (<span style=\"color: #00d7ff; text-decoration-color: #00d7ff\">None</span>, <span style=\"color: #00af00; text-decoration-color: #00af00\">60</span>, <span style=\"color: #00af00; text-decoration-color: #00af00\">32</span>, <span style=\"color: #00af00; text-decoration-color: #00af00\">32</span>)          │             <span style=\"color: #00af00; text-decoration-color: #00af00\">320</span> │\n",
              "├──────────────────────────────────────┼─────────────────────────────┼─────────────────┤\n",
              "│ batch_normalization_4                │ (<span style=\"color: #00d7ff; text-decoration-color: #00d7ff\">None</span>, <span style=\"color: #00af00; text-decoration-color: #00af00\">60</span>, <span style=\"color: #00af00; text-decoration-color: #00af00\">32</span>, <span style=\"color: #00af00; text-decoration-color: #00af00\">32</span>)          │             <span style=\"color: #00af00; text-decoration-color: #00af00\">128</span> │\n",
              "│ (<span style=\"color: #0087ff; text-decoration-color: #0087ff\">BatchNormalization</span>)                 │                             │                 │\n",
              "├──────────────────────────────────────┼─────────────────────────────┼─────────────────┤\n",
              "│ max_pooling2d_2 (<span style=\"color: #0087ff; text-decoration-color: #0087ff\">MaxPooling2D</span>)       │ (<span style=\"color: #00d7ff; text-decoration-color: #00d7ff\">None</span>, <span style=\"color: #00af00; text-decoration-color: #00af00\">30</span>, <span style=\"color: #00af00; text-decoration-color: #00af00\">16</span>, <span style=\"color: #00af00; text-decoration-color: #00af00\">32</span>)          │               <span style=\"color: #00af00; text-decoration-color: #00af00\">0</span> │\n",
              "├──────────────────────────────────────┼─────────────────────────────┼─────────────────┤\n",
              "│ conv2d_4 (<span style=\"color: #0087ff; text-decoration-color: #0087ff\">Conv2D</span>)                    │ (<span style=\"color: #00d7ff; text-decoration-color: #00d7ff\">None</span>, <span style=\"color: #00af00; text-decoration-color: #00af00\">30</span>, <span style=\"color: #00af00; text-decoration-color: #00af00\">16</span>, <span style=\"color: #00af00; text-decoration-color: #00af00\">64</span>)          │          <span style=\"color: #00af00; text-decoration-color: #00af00\">18,496</span> │\n",
              "├──────────────────────────────────────┼─────────────────────────────┼─────────────────┤\n",
              "│ batch_normalization_5                │ (<span style=\"color: #00d7ff; text-decoration-color: #00d7ff\">None</span>, <span style=\"color: #00af00; text-decoration-color: #00af00\">30</span>, <span style=\"color: #00af00; text-decoration-color: #00af00\">16</span>, <span style=\"color: #00af00; text-decoration-color: #00af00\">64</span>)          │             <span style=\"color: #00af00; text-decoration-color: #00af00\">256</span> │\n",
              "│ (<span style=\"color: #0087ff; text-decoration-color: #0087ff\">BatchNormalization</span>)                 │                             │                 │\n",
              "├──────────────────────────────────────┼─────────────────────────────┼─────────────────┤\n",
              "│ max_pooling2d_3 (<span style=\"color: #0087ff; text-decoration-color: #0087ff\">MaxPooling2D</span>)       │ (<span style=\"color: #00d7ff; text-decoration-color: #00d7ff\">None</span>, <span style=\"color: #00af00; text-decoration-color: #00af00\">15</span>, <span style=\"color: #00af00; text-decoration-color: #00af00\">8</span>, <span style=\"color: #00af00; text-decoration-color: #00af00\">64</span>)           │               <span style=\"color: #00af00; text-decoration-color: #00af00\">0</span> │\n",
              "├──────────────────────────────────────┼─────────────────────────────┼─────────────────┤\n",
              "│ conv2d_5 (<span style=\"color: #0087ff; text-decoration-color: #0087ff\">Conv2D</span>)                    │ (<span style=\"color: #00d7ff; text-decoration-color: #00d7ff\">None</span>, <span style=\"color: #00af00; text-decoration-color: #00af00\">15</span>, <span style=\"color: #00af00; text-decoration-color: #00af00\">8</span>, <span style=\"color: #00af00; text-decoration-color: #00af00\">128</span>)          │          <span style=\"color: #00af00; text-decoration-color: #00af00\">73,856</span> │\n",
              "├──────────────────────────────────────┼─────────────────────────────┼─────────────────┤\n",
              "│ batch_normalization_6                │ (<span style=\"color: #00d7ff; text-decoration-color: #00d7ff\">None</span>, <span style=\"color: #00af00; text-decoration-color: #00af00\">15</span>, <span style=\"color: #00af00; text-decoration-color: #00af00\">8</span>, <span style=\"color: #00af00; text-decoration-color: #00af00\">128</span>)          │             <span style=\"color: #00af00; text-decoration-color: #00af00\">512</span> │\n",
              "│ (<span style=\"color: #0087ff; text-decoration-color: #0087ff\">BatchNormalization</span>)                 │                             │                 │\n",
              "├──────────────────────────────────────┼─────────────────────────────┼─────────────────┤\n",
              "│ reshape_1 (<span style=\"color: #0087ff; text-decoration-color: #0087ff\">Reshape</span>)                  │ (<span style=\"color: #00d7ff; text-decoration-color: #00d7ff\">None</span>, <span style=\"color: #00af00; text-decoration-color: #00af00\">120</span>, <span style=\"color: #00af00; text-decoration-color: #00af00\">128</span>)            │               <span style=\"color: #00af00; text-decoration-color: #00af00\">0</span> │\n",
              "├──────────────────────────────────────┼─────────────────────────────┼─────────────────┤\n",
              "│ bidirectional_2 (<span style=\"color: #0087ff; text-decoration-color: #0087ff\">Bidirectional</span>)      │ (<span style=\"color: #00d7ff; text-decoration-color: #00d7ff\">None</span>, <span style=\"color: #00af00; text-decoration-color: #00af00\">120</span>, <span style=\"color: #00af00; text-decoration-color: #00af00\">128</span>)            │          <span style=\"color: #00af00; text-decoration-color: #00af00\">98,816</span> │\n",
              "├──────────────────────────────────────┼─────────────────────────────┼─────────────────┤\n",
              "│ dropout_3 (<span style=\"color: #0087ff; text-decoration-color: #0087ff\">Dropout</span>)                  │ (<span style=\"color: #00d7ff; text-decoration-color: #00d7ff\">None</span>, <span style=\"color: #00af00; text-decoration-color: #00af00\">120</span>, <span style=\"color: #00af00; text-decoration-color: #00af00\">128</span>)            │               <span style=\"color: #00af00; text-decoration-color: #00af00\">0</span> │\n",
              "├──────────────────────────────────────┼─────────────────────────────┼─────────────────┤\n",
              "│ bidirectional_3 (<span style=\"color: #0087ff; text-decoration-color: #0087ff\">Bidirectional</span>)      │ (<span style=\"color: #00d7ff; text-decoration-color: #00d7ff\">None</span>, <span style=\"color: #00af00; text-decoration-color: #00af00\">128</span>)                 │          <span style=\"color: #00af00; text-decoration-color: #00af00\">98,816</span> │\n",
              "├──────────────────────────────────────┼─────────────────────────────┼─────────────────┤\n",
              "│ dropout_4 (<span style=\"color: #0087ff; text-decoration-color: #0087ff\">Dropout</span>)                  │ (<span style=\"color: #00d7ff; text-decoration-color: #00d7ff\">None</span>, <span style=\"color: #00af00; text-decoration-color: #00af00\">128</span>)                 │               <span style=\"color: #00af00; text-decoration-color: #00af00\">0</span> │\n",
              "├──────────────────────────────────────┼─────────────────────────────┼─────────────────┤\n",
              "│ dense_2 (<span style=\"color: #0087ff; text-decoration-color: #0087ff\">Dense</span>)                      │ (<span style=\"color: #00d7ff; text-decoration-color: #00d7ff\">None</span>, <span style=\"color: #00af00; text-decoration-color: #00af00\">128</span>)                 │          <span style=\"color: #00af00; text-decoration-color: #00af00\">16,512</span> │\n",
              "├──────────────────────────────────────┼─────────────────────────────┼─────────────────┤\n",
              "│ batch_normalization_7                │ (<span style=\"color: #00d7ff; text-decoration-color: #00d7ff\">None</span>, <span style=\"color: #00af00; text-decoration-color: #00af00\">128</span>)                 │             <span style=\"color: #00af00; text-decoration-color: #00af00\">512</span> │\n",
              "│ (<span style=\"color: #0087ff; text-decoration-color: #0087ff\">BatchNormalization</span>)                 │                             │                 │\n",
              "├──────────────────────────────────────┼─────────────────────────────┼─────────────────┤\n",
              "│ dropout_5 (<span style=\"color: #0087ff; text-decoration-color: #0087ff\">Dropout</span>)                  │ (<span style=\"color: #00d7ff; text-decoration-color: #00d7ff\">None</span>, <span style=\"color: #00af00; text-decoration-color: #00af00\">128</span>)                 │               <span style=\"color: #00af00; text-decoration-color: #00af00\">0</span> │\n",
              "├──────────────────────────────────────┼─────────────────────────────┼─────────────────┤\n",
              "│ dense_3 (<span style=\"color: #0087ff; text-decoration-color: #0087ff\">Dense</span>)                      │ (<span style=\"color: #00d7ff; text-decoration-color: #00d7ff\">None</span>, <span style=\"color: #00af00; text-decoration-color: #00af00\">4</span>)                   │             <span style=\"color: #00af00; text-decoration-color: #00af00\">516</span> │\n",
              "└──────────────────────────────────────┴─────────────────────────────┴─────────────────┘\n",
              "</pre>\n"
            ]
          },
          "metadata": {}
        },
        {
          "output_type": "display_data",
          "data": {
            "text/plain": [
              "\u001b[1m Total params: \u001b[0m\u001b[38;5;34m308,740\u001b[0m (1.18 MB)\n"
            ],
            "text/html": [
              "<pre style=\"white-space:pre;overflow-x:auto;line-height:normal;font-family:Menlo,'DejaVu Sans Mono',consolas,'Courier New',monospace\"><span style=\"font-weight: bold\"> Total params: </span><span style=\"color: #00af00; text-decoration-color: #00af00\">308,740</span> (1.18 MB)\n",
              "</pre>\n"
            ]
          },
          "metadata": {}
        },
        {
          "output_type": "display_data",
          "data": {
            "text/plain": [
              "\u001b[1m Trainable params: \u001b[0m\u001b[38;5;34m308,036\u001b[0m (1.18 MB)\n"
            ],
            "text/html": [
              "<pre style=\"white-space:pre;overflow-x:auto;line-height:normal;font-family:Menlo,'DejaVu Sans Mono',consolas,'Courier New',monospace\"><span style=\"font-weight: bold\"> Trainable params: </span><span style=\"color: #00af00; text-decoration-color: #00af00\">308,036</span> (1.18 MB)\n",
              "</pre>\n"
            ]
          },
          "metadata": {}
        },
        {
          "output_type": "display_data",
          "data": {
            "text/plain": [
              "\u001b[1m Non-trainable params: \u001b[0m\u001b[38;5;34m704\u001b[0m (2.75 KB)\n"
            ],
            "text/html": [
              "<pre style=\"white-space:pre;overflow-x:auto;line-height:normal;font-family:Menlo,'DejaVu Sans Mono',consolas,'Courier New',monospace\"><span style=\"font-weight: bold\"> Non-trainable params: </span><span style=\"color: #00af00; text-decoration-color: #00af00\">704</span> (2.75 KB)\n",
              "</pre>\n"
            ]
          },
          "metadata": {}
        }
      ]
    },
    {
      "cell_type": "code",
      "source": [
        "# Train with callbacks (keep the rest of the callbacks)\n",
        "history = model.fit(\n",
        "    X_train, y_train,\n",
        "    epochs=50,\n",
        "    batch_size=16,\n",
        "    validation_split=0.2,\n",
        "    callbacks=[\n",
        "        tf.keras.callbacks.EarlyStopping(\n",
        "            monitor='val_accuracy',\n",
        "            patience=10,\n",
        "            restore_best_weights=True\n",
        "        ),\n",
        "        tf.keras.callbacks.ReduceLROnPlateau(\n",
        "            monitor='val_loss',\n",
        "            factor=0.5,\n",
        "            patience=5,\n",
        "            min_lr=0.0001\n",
        "        ),\n",
        "        tf.keras.callbacks.ModelCheckpoint(\n",
        "            'best_cnn_lstm_model.h5',\n",
        "            save_best_only=True,\n",
        "            monitor='val_accuracy'\n",
        "        )\n",
        "    ]\n",
        ")\n"
      ],
      "metadata": {
        "colab": {
          "base_uri": "https://localhost:8080/"
        },
        "id": "Q_fkzaV68p8k",
        "outputId": "74a2442b-b322-48e4-ff8b-f2791e1ca405"
      },
      "execution_count": null,
      "outputs": [
        {
          "output_type": "stream",
          "name": "stdout",
          "text": [
            "Epoch 1/50\n",
            "\u001b[1m18/18\u001b[0m \u001b[32m━━━━━━━━━━━━━━━━━━━━\u001b[0m\u001b[37m\u001b[0m \u001b[1m0s\u001b[0m 268ms/step - accuracy: 0.3423 - loss: 1.7471"
          ]
        },
        {
          "output_type": "stream",
          "name": "stderr",
          "text": [
            "WARNING:absl:You are saving your model as an HDF5 file via `model.save()` or `keras.saving.save_model(model)`. This file format is considered legacy. We recommend using instead the native Keras format, e.g. `model.save('my_model.keras')` or `keras.saving.save_model(model, 'my_model.keras')`. \n"
          ]
        },
        {
          "output_type": "stream",
          "name": "stdout",
          "text": [
            "\b\b\b\b\b\b\b\b\b\b\b\b\b\b\b\b\b\b\b\b\b\b\b\b\b\b\b\b\b\b\b\b\b\b\b\b\b\b\b\b\b\b\b\b\b\b\b\b\b\b\b\b\b\b\b\b\b\b\b\b\b\b\b\b\b\b\b\b\b\b\b\b\b\b\r\u001b[1m18/18\u001b[0m \u001b[32m━━━━━━━━━━━━━━━━━━━━\u001b[0m\u001b[37m\u001b[0m \u001b[1m17s\u001b[0m 353ms/step - accuracy: 0.3444 - loss: 1.7408 - val_accuracy: 0.4444 - val_loss: 1.2885 - learning_rate: 0.0010\n",
            "Epoch 2/50\n",
            "\u001b[1m18/18\u001b[0m \u001b[32m━━━━━━━━━━━━━━━━━━━━\u001b[0m\u001b[37m\u001b[0m \u001b[1m7s\u001b[0m 382ms/step - accuracy: 0.5480 - loss: 1.2133 - val_accuracy: 0.4444 - val_loss: 1.2763 - learning_rate: 0.0010\n",
            "Epoch 3/50\n",
            "\u001b[1m18/18\u001b[0m \u001b[32m━━━━━━━━━━━━━━━━━━━━\u001b[0m\u001b[37m\u001b[0m \u001b[1m0s\u001b[0m 267ms/step - accuracy: 0.7031 - loss: 0.8284"
          ]
        },
        {
          "output_type": "stream",
          "name": "stderr",
          "text": [
            "WARNING:absl:You are saving your model as an HDF5 file via `model.save()` or `keras.saving.save_model(model)`. This file format is considered legacy. We recommend using instead the native Keras format, e.g. `model.save('my_model.keras')` or `keras.saving.save_model(model, 'my_model.keras')`. \n"
          ]
        },
        {
          "output_type": "stream",
          "name": "stdout",
          "text": [
            "\b\b\b\b\b\b\b\b\b\b\b\b\b\b\b\b\b\b\b\b\b\b\b\b\b\b\b\b\b\b\b\b\b\b\b\b\b\b\b\b\b\b\b\b\b\b\b\b\b\b\b\b\b\b\b\b\b\b\b\b\b\b\b\b\b\b\b\b\b\b\b\b\b\b\r\u001b[1m18/18\u001b[0m \u001b[32m━━━━━━━━━━━━━━━━━━━━\u001b[0m\u001b[37m\u001b[0m \u001b[1m9s\u001b[0m 314ms/step - accuracy: 0.7034 - loss: 0.8259 - val_accuracy: 0.7222 - val_loss: 1.0517 - learning_rate: 0.0010\n",
            "Epoch 4/50\n",
            "\u001b[1m18/18\u001b[0m \u001b[32m━━━━━━━━━━━━━━━━━━━━\u001b[0m\u001b[37m\u001b[0m \u001b[1m6s\u001b[0m 348ms/step - accuracy: 0.8105 - loss: 0.5436 - val_accuracy: 0.5833 - val_loss: 0.9502 - learning_rate: 0.0010\n",
            "Epoch 5/50\n",
            "\u001b[1m18/18\u001b[0m \u001b[32m━━━━━━━━━━━━━━━━━━━━\u001b[0m\u001b[37m\u001b[0m \u001b[1m10s\u001b[0m 368ms/step - accuracy: 0.8577 - loss: 0.4170 - val_accuracy: 0.4583 - val_loss: 1.1383 - learning_rate: 0.0010\n",
            "Epoch 6/50\n",
            "\u001b[1m18/18\u001b[0m \u001b[32m━━━━━━━━━━━━━━━━━━━━\u001b[0m\u001b[37m\u001b[0m \u001b[1m0s\u001b[0m 265ms/step - accuracy: 0.8928 - loss: 0.3094"
          ]
        },
        {
          "output_type": "stream",
          "name": "stderr",
          "text": [
            "WARNING:absl:You are saving your model as an HDF5 file via `model.save()` or `keras.saving.save_model(model)`. This file format is considered legacy. We recommend using instead the native Keras format, e.g. `model.save('my_model.keras')` or `keras.saving.save_model(model, 'my_model.keras')`. \n"
          ]
        },
        {
          "output_type": "stream",
          "name": "stdout",
          "text": [
            "\b\b\b\b\b\b\b\b\b\b\b\b\b\b\b\b\b\b\b\b\b\b\b\b\b\b\b\b\b\b\b\b\b\b\b\b\b\b\b\b\b\b\b\b\b\b\b\b\b\b\b\b\b\b\b\b\b\b\b\b\b\b\b\b\b\b\b\b\b\b\b\b\b\b\r\u001b[1m18/18\u001b[0m \u001b[32m━━━━━━━━━━━━━━━━━━━━\u001b[0m\u001b[37m\u001b[0m \u001b[1m6s\u001b[0m 310ms/step - accuracy: 0.8919 - loss: 0.3096 - val_accuracy: 0.8472 - val_loss: 0.5039 - learning_rate: 0.0010\n",
            "Epoch 7/50\n",
            "\u001b[1m18/18\u001b[0m \u001b[32m━━━━━━━━━━━━━━━━━━━━\u001b[0m\u001b[37m\u001b[0m \u001b[1m6s\u001b[0m 364ms/step - accuracy: 0.8922 - loss: 0.2788 - val_accuracy: 0.7222 - val_loss: 0.7353 - learning_rate: 0.0010\n",
            "Epoch 8/50\n",
            "\u001b[1m18/18\u001b[0m \u001b[32m━━━━━━━━━━━━━━━━━━━━\u001b[0m\u001b[37m\u001b[0m \u001b[1m0s\u001b[0m 267ms/step - accuracy: 0.9277 - loss: 0.1669"
          ]
        },
        {
          "output_type": "stream",
          "name": "stderr",
          "text": [
            "WARNING:absl:You are saving your model as an HDF5 file via `model.save()` or `keras.saving.save_model(model)`. This file format is considered legacy. We recommend using instead the native Keras format, e.g. `model.save('my_model.keras')` or `keras.saving.save_model(model, 'my_model.keras')`. \n"
          ]
        },
        {
          "output_type": "stream",
          "name": "stdout",
          "text": [
            "\b\b\b\b\b\b\b\b\b\b\b\b\b\b\b\b\b\b\b\b\b\b\b\b\b\b\b\b\b\b\b\b\b\b\b\b\b\b\b\b\b\b\b\b\b\b\b\b\b\b\b\b\b\b\b\b\b\b\b\b\b\b\b\b\b\b\b\b\b\b\b\b\b\b\r\u001b[1m18/18\u001b[0m \u001b[32m━━━━━━━━━━━━━━━━━━━━\u001b[0m\u001b[37m\u001b[0m \u001b[1m5s\u001b[0m 293ms/step - accuracy: 0.9280 - loss: 0.1675 - val_accuracy: 0.9028 - val_loss: 0.3462 - learning_rate: 0.0010\n",
            "Epoch 9/50\n",
            "\u001b[1m18/18\u001b[0m \u001b[32m━━━━━━━━━━━━━━━━━━━━\u001b[0m\u001b[37m\u001b[0m \u001b[1m6s\u001b[0m 338ms/step - accuracy: 0.9287 - loss: 0.1803 - val_accuracy: 0.8889 - val_loss: 0.3216 - learning_rate: 0.0010\n",
            "Epoch 10/50\n",
            "\u001b[1m18/18\u001b[0m \u001b[32m━━━━━━━━━━━━━━━━━━━━\u001b[0m\u001b[37m\u001b[0m \u001b[1m9s\u001b[0m 290ms/step - accuracy: 0.9678 - loss: 0.1327 - val_accuracy: 0.8472 - val_loss: 0.5595 - learning_rate: 0.0010\n",
            "Epoch 11/50\n",
            "\u001b[1m18/18\u001b[0m \u001b[32m━━━━━━━━━━━━━━━━━━━━\u001b[0m\u001b[37m\u001b[0m \u001b[1m10s\u001b[0m 287ms/step - accuracy: 0.9569 - loss: 0.1148 - val_accuracy: 0.8056 - val_loss: 0.3931 - learning_rate: 0.0010\n",
            "Epoch 12/50\n",
            "\u001b[1m18/18\u001b[0m \u001b[32m━━━━━━━━━━━━━━━━━━━━\u001b[0m\u001b[37m\u001b[0m \u001b[1m10s\u001b[0m 286ms/step - accuracy: 0.9923 - loss: 0.0517 - val_accuracy: 0.8194 - val_loss: 0.4637 - learning_rate: 0.0010\n",
            "Epoch 13/50\n",
            "\u001b[1m18/18\u001b[0m \u001b[32m━━━━━━━━━━━━━━━━━━━━\u001b[0m\u001b[37m\u001b[0m \u001b[1m0s\u001b[0m 306ms/step - accuracy: 0.9913 - loss: 0.0234"
          ]
        },
        {
          "output_type": "stream",
          "name": "stderr",
          "text": [
            "WARNING:absl:You are saving your model as an HDF5 file via `model.save()` or `keras.saving.save_model(model)`. This file format is considered legacy. We recommend using instead the native Keras format, e.g. `model.save('my_model.keras')` or `keras.saving.save_model(model, 'my_model.keras')`. \n"
          ]
        },
        {
          "output_type": "stream",
          "name": "stdout",
          "text": [
            "\b\b\b\b\b\b\b\b\b\b\b\b\b\b\b\b\b\b\b\b\b\b\b\b\b\b\b\b\b\b\b\b\b\b\b\b\b\b\b\b\b\b\b\b\b\b\b\b\b\b\b\b\b\b\b\b\b\b\b\b\b\b\b\b\b\b\b\b\b\b\b\b\b\b\r\u001b[1m18/18\u001b[0m \u001b[32m━━━━━━━━━━━━━━━━━━━━\u001b[0m\u001b[37m\u001b[0m \u001b[1m6s\u001b[0m 356ms/step - accuracy: 0.9916 - loss: 0.0230 - val_accuracy: 0.9861 - val_loss: 0.0524 - learning_rate: 0.0010\n",
            "Epoch 14/50\n",
            "\u001b[1m18/18\u001b[0m \u001b[32m━━━━━━━━━━━━━━━━━━━━\u001b[0m\u001b[37m\u001b[0m \u001b[1m9s\u001b[0m 285ms/step - accuracy: 0.9933 - loss: 0.0218 - val_accuracy: 0.9861 - val_loss: 0.0499 - learning_rate: 0.0010\n",
            "Epoch 15/50\n",
            "\u001b[1m18/18\u001b[0m \u001b[32m━━━━━━━━━━━━━━━━━━━━\u001b[0m\u001b[37m\u001b[0m \u001b[1m6s\u001b[0m 361ms/step - accuracy: 0.9949 - loss: 0.0377 - val_accuracy: 0.7917 - val_loss: 1.0157 - learning_rate: 0.0010\n",
            "Epoch 16/50\n",
            "\u001b[1m18/18\u001b[0m \u001b[32m━━━━━━━━━━━━━━━━━━━━\u001b[0m\u001b[37m\u001b[0m \u001b[1m10s\u001b[0m 333ms/step - accuracy: 0.9343 - loss: 0.1752 - val_accuracy: 0.9583 - val_loss: 0.1257 - learning_rate: 0.0010\n",
            "Epoch 17/50\n",
            "\u001b[1m18/18\u001b[0m \u001b[32m━━━━━━━━━━━━━━━━━━━━\u001b[0m\u001b[37m\u001b[0m \u001b[1m10s\u001b[0m 307ms/step - accuracy: 0.9405 - loss: 0.1356 - val_accuracy: 0.8611 - val_loss: 0.3843 - learning_rate: 0.0010\n",
            "Epoch 18/50\n",
            "\u001b[1m18/18\u001b[0m \u001b[32m━━━━━━━━━━━━━━━━━━━━\u001b[0m\u001b[37m\u001b[0m \u001b[1m10s\u001b[0m 290ms/step - accuracy: 0.9704 - loss: 0.1048 - val_accuracy: 0.8611 - val_loss: 0.5617 - learning_rate: 0.0010\n",
            "Epoch 19/50\n",
            "\u001b[1m18/18\u001b[0m \u001b[32m━━━━━━━━━━━━━━━━━━━━\u001b[0m\u001b[37m\u001b[0m \u001b[1m10s\u001b[0m 288ms/step - accuracy: 0.9851 - loss: 0.0561 - val_accuracy: 0.9028 - val_loss: 0.3098 - learning_rate: 0.0010\n",
            "Epoch 20/50\n",
            "\u001b[1m18/18\u001b[0m \u001b[32m━━━━━━━━━━━━━━━━━━━━\u001b[0m\u001b[37m\u001b[0m \u001b[1m6s\u001b[0m 352ms/step - accuracy: 0.9856 - loss: 0.0934 - val_accuracy: 0.9722 - val_loss: 0.0626 - learning_rate: 5.0000e-04\n",
            "Epoch 21/50\n",
            "\u001b[1m18/18\u001b[0m \u001b[32m━━━━━━━━━━━━━━━━━━━━\u001b[0m\u001b[37m\u001b[0m \u001b[1m9s\u001b[0m 288ms/step - accuracy: 0.9835 - loss: 0.0630 - val_accuracy: 0.9861 - val_loss: 0.0466 - learning_rate: 5.0000e-04\n",
            "Epoch 22/50\n",
            "\u001b[1m18/18\u001b[0m \u001b[32m━━━━━━━━━━━━━━━━━━━━\u001b[0m\u001b[37m\u001b[0m \u001b[1m10s\u001b[0m 288ms/step - accuracy: 1.0000 - loss: 0.0178 - val_accuracy: 0.9861 - val_loss: 0.0195 - learning_rate: 5.0000e-04\n",
            "Epoch 23/50\n",
            "\u001b[1m18/18\u001b[0m \u001b[32m━━━━━━━━━━━━━━━━━━━━\u001b[0m\u001b[37m\u001b[0m \u001b[1m6s\u001b[0m 359ms/step - accuracy: 1.0000 - loss: 0.0130 - val_accuracy: 0.9861 - val_loss: 0.0214 - learning_rate: 5.0000e-04\n"
          ]
        }
      ]
    },
    {
      "cell_type": "code",
      "source": [
        "# Plot training history\n",
        "plt.figure(figsize=(12, 4))\n",
        "\n",
        "plt.subplot(1, 2, 1)\n",
        "plt.plot(history.history['accuracy'], label='Training Accuracy')\n",
        "plt.plot(history.history['val_accuracy'], label='Validation Accuracy')\n",
        "plt.title('Model Accuracy')\n",
        "plt.xlabel('Epoch')\n",
        "plt.ylabel('Accuracy')\n",
        "plt.legend()\n",
        "\n",
        "plt.subplot(1, 2, 2)\n",
        "plt.plot(history.history['loss'], label='Training Loss')\n",
        "plt.plot(history.history['val_loss'], label='Validation Loss')\n",
        "plt.title('Model Loss')\n",
        "plt.xlabel('Epoch')\n",
        "plt.ylabel('Loss')\n",
        "plt.legend()\n",
        "\n",
        "plt.tight_layout()\n",
        "plt.show()"
      ],
      "metadata": {
        "colab": {
          "base_uri": "https://localhost:8080/",
          "height": 407
        },
        "id": "Dkyq1m0V-JUL",
        "outputId": "072b2116-c0e2-4448-cb5d-e999f625b382"
      },
      "execution_count": null,
      "outputs": [
        {
          "output_type": "display_data",
          "data": {
            "text/plain": [
              "<Figure size 1200x400 with 2 Axes>"
            ],
            "image/png": "[encoded data removed]"
          },
          "metadata": {}
        }
      ]
    },
    {
      "cell_type": "code",
      "source": [
        "# Function to predict with the CNN+LSTM model\n",
        "def predict_command_cnn_lstm(audio_file, model, label_encoder):\n",
        "    \"\"\"\n",
        "    Predict the command from an audio file using the CNN+LSTM model.\n",
        "    \"\"\"\n",
        "    try:\n",
        "        # Load audio\n",
        "        audio, sr = librosa.load(audio_file, sr=16000, duration=1)\n",
        "\n",
        "        # Print audio info for debugging\n",
        "        print(f\"Audio length: {len(audio)}, Sample rate: {sr}\")\n",
        "        print(f\"Audio min: {audio.min():.4f}, max: {audio.max():.4f}, mean: {audio.mean():.4f}\")\n",
        "\n",
        "        # Preprocess\n",
        "        if len(audio) < sr:\n",
        "            audio = np.pad(audio, (0, sr - len(audio)))\n",
        "        else:\n",
        "            audio = audio[:sr]\n",
        "\n",
        "        # Extract same features as training\n",
        "        mfccs = librosa.feature.mfcc(y=audio, sr=sr, n_mfcc=20)\n",
        "        delta_mfccs = librosa.feature.delta(mfccs)\n",
        "        delta2_mfccs = librosa.feature.delta(mfccs, order=2)\n",
        "        combined_features = np.concatenate([mfccs, delta_mfccs, delta2_mfccs], axis=0)\n",
        "\n",
        "        # Reshape for CNN input\n",
        "        features = combined_features.reshape(1, combined_features.shape[0], combined_features.shape[1], 1)\n",
        "\n",
        "        # Get prediction\n",
        "        predictions = model.predict(features, verbose=0)\n",
        "\n",
        "        # Get the predicted class index\n",
        "        predicted_index = np.argmax(predictions[0])\n",
        "\n",
        "        # Get the confidence score\n",
        "        confidence = float(predictions[0][predicted_index])\n",
        "\n",
        "        # Get the command name\n",
        "        commands = label_encoder.classes_\n",
        "        predicted_command = commands[predicted_index]\n",
        "\n",
        "        # Print all confidences\n",
        "        print(\"\\nConfidence scores:\")\n",
        "        for i, command in enumerate(commands):\n",
        "            print(f\"{command}: {predictions[0][i]*100:.2f}%\")\n",
        "\n",
        "        return predicted_command, confidence\n",
        "\n",
        "    except Exception as e:\n",
        "        print(f\"Error predicting command: {e}\")\n",
        "        return None, 0.0\n",
        "\n",
        "# Save model\n",
        "model.save('cnn_lstm_command_model.h5')\n",
        "print(\"Model saved as 'cnn_lstm_command_model.h5'\")"
      ],
      "metadata": {
        "colab": {
          "base_uri": "https://localhost:8080/"
        },
        "id": "fUthMrYp_ioO",
        "outputId": "520cc284-e7e9-4527-b730-0e9b46c49bd0"
      },
      "execution_count": null,
      "outputs": [
        {
          "output_type": "stream",
          "name": "stderr",
          "text": [
            "WARNING:absl:You are saving your model as an HDF5 file via `model.save()` or `keras.saving.save_model(model)`. This file format is considered legacy. We recommend using instead the native Keras format, e.g. `model.save('my_model.keras')` or `keras.saving.save_model(model, 'my_model.keras')`. \n"
          ]
        },
        {
          "output_type": "stream",
          "name": "stdout",
          "text": [
            "Model saved as 'cnn_lstm_command_model.h5'\n"
          ]
        }
      ]
    },
    {
      "cell_type": "code",
      "source": [
        "command, confidence = predict_command_cnn_lstm(\"/content/test_no.wav\", model, label_encoder)\n",
        "print(f\"Predicted command: {command} with {confidence*100:.2f}% confidence\")"
      ],
      "metadata": {
        "colab": {
          "base_uri": "https://localhost:8080/"
        },
        "id": "NPTHyzPo_q6m",
        "outputId": "6dc69bf1-39bf-495c-ac21-52c7199b85c3"
      },
      "execution_count": null,
      "outputs": [
        {
          "output_type": "stream",
          "name": "stdout",
          "text": [
            "Audio length: 16000, Sample rate: 16000\n",
            "Audio min: -0.1487, max: 0.1076, mean: -0.0000\n",
            "\n",
            "Confidence scores:\n",
            "no: 96.75%\n",
            "play: 1.29%\n",
            "stop: 1.01%\n",
            "yes: 0.94%\n",
            "Predicted command: no with 96.75% confidence\n"
          ]
        }
      ]
    },
    {
      "cell_type": "code",
      "source": [
        "command, confidence = predict_command_cnn_lstm(\"/content/test_yes.wav\", model, label_encoder)\n",
        "print(f\"Predicted command: {command} with {confidence*100:.2f}% confidence\")"
      ],
      "metadata": {
        "colab": {
          "base_uri": "https://localhost:8080/"
        },
        "id": "5m0FL0GJ_0wn",
        "outputId": "89a8234d-21a1-4a81-c841-87516831ab1c"
      },
      "execution_count": null,
      "outputs": [
        {
          "output_type": "stream",
          "name": "stdout",
          "text": [
            "Audio length: 16000, Sample rate: 16000\n",
            "Audio min: -0.1821, max: 0.2030, mean: 0.0001\n",
            "\n",
            "Confidence scores:\n",
            "no: 0.30%\n",
            "play: 0.27%\n",
            "stop: 0.60%\n",
            "yes: 98.82%\n",
            "Predicted command: yes with 98.82% confidence\n"
          ]
        }
      ]
    },
    {
      "cell_type": "code",
      "source": [
        "command, confidence = predict_command_cnn_lstm(\"/content/test_play.wav\", model, label_encoder)\n",
        "print(f\"Predicted command: {command} with {confidence*100:.2f}% confidence\")"
      ],
      "metadata": {
        "colab": {
          "base_uri": "https://localhost:8080/"
        },
        "id": "J-Rxb3uhAI7c",
        "outputId": "2b702d9b-2033-4e5d-aeb7-5b123e07a5de"
      },
      "execution_count": null,
      "outputs": [
        {
          "output_type": "stream",
          "name": "stdout",
          "text": [
            "Audio length: 12938, Sample rate: 16000\n",
            "Audio min: -0.1895, max: 0.2510, mean: -0.0002\n",
            "\n",
            "Confidence scores:\n",
            "no: 4.14%\n",
            "play: 85.68%\n",
            "stop: 1.34%\n",
            "yes: 8.84%\n",
            "Predicted command: play with 85.68% confidence\n"
          ]
        }
      ]
    },
    {
      "cell_type": "code",
      "source": [
        "command, confidence = predict_command_cnn_lstm(\"/content/test_stop.wav\", model, label_encoder)\n",
        "print(f\"Predicted command: {command} with {confidence*100:.2f}% confidence\")"
      ],
      "metadata": {
        "colab": {
          "base_uri": "https://localhost:8080/"
        },
        "id": "yIqcKY_-BlsO",
        "outputId": "2d1a6d14-a9b2-4567-abe7-7a0b40bd2ee9"
      },
      "execution_count": null,
      "outputs": [
        {
          "output_type": "stream",
          "name": "stdout",
          "text": [
            "Audio length: 16000, Sample rate: 16000\n",
            "Audio min: -0.1702, max: 0.2837, mean: 0.0001\n",
            "\n",
            "Confidence scores:\n",
            "no: 8.37%\n",
            "play: 2.37%\n",
            "stop: 81.76%\n",
            "yes: 7.49%\n",
            "Predicted command: stop with 81.76% confidence\n"
          ]
        }
      ]
    },
    {
      "cell_type": "code",
      "source": [
        "import joblib\n",
        "joblib.dump(label_encoder, 'label_encoder.pkl')"
      ],
      "metadata": {
        "colab": {
          "base_uri": "https://localhost:8080/"
        },
        "id": "6U2YcIkTCNIJ",
        "outputId": "adccdc9c-26d4-4b8a-92d6-e8b8cdfcfa71"
      },
      "execution_count": null,
      "outputs": [
        {
          "output_type": "execute_result",
          "data": {
            "text/plain": [
              "['label_encoder.pkl']"
            ]
          },
          "metadata": {},
          "execution_count": 19
        }
      ]
    }
  ]
}